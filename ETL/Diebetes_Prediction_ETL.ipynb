{
  "nbformat": 4,
  "nbformat_minor": 0,
  "metadata": {
    "colab": {
      "provenance": []
    },
    "kernelspec": {
      "name": "python3",
      "display_name": "Python 3"
    },
    "language_info": {
      "name": "python"
    }
  },
  "cells": [
    {
      "cell_type": "code",
      "execution_count": 1,
      "metadata": {
        "colab": {
          "base_uri": "https://localhost:8080/"
        },
        "id": "ULf8WKcRayAk",
        "outputId": "3ce39a77-0fdf-485b-e803-8a81021c5aab"
      },
      "outputs": [
        {
          "output_type": "stream",
          "name": "stdout",
          "text": [
            "\r0% [Working]\r            \rGet:1 http://security.ubuntu.com/ubuntu bionic-security InRelease [88.7 kB]\n",
            "\r0% [Connecting to archive.ubuntu.com (185.125.190.36)] [1 InRelease 14.2 kB/88.\r                                                                               \rGet:2 https://cloud.r-project.org/bin/linux/ubuntu bionic-cran40/ InRelease [3,626 B]\n",
            "\r0% [Waiting for headers] [1 InRelease 22.9 kB/88.7 kB 26%] [2 InRelease 0 B/3,6\r0% [Waiting for headers] [1 InRelease 37.3 kB/88.7 kB 42%] [Waiting for headers\r0% [2 InRelease gpgv 3,626 B] [Waiting for headers] [1 InRelease 40.2 kB/88.7 k\r0% [2 InRelease gpgv 3,626 B] [Waiting for headers] [Waiting for headers] [Conn\r                                                                               \rIgn:3 https://developer.download.nvidia.com/compute/machine-learning/repos/ubuntu1804/x86_64  InRelease\n",
            "\r                                                                               \r0% [2 InRelease gpgv 3,626 B] [Waiting for headers] [Waiting for headers]\r                                                                         \rHit:4 http://archive.ubuntu.com/ubuntu bionic InRelease\n",
            "\r0% [2 InRelease gpgv 3,626 B] [Waiting for headers] [Waiting for headers]\r                                                                         \rGet:5 https://developer.download.nvidia.com/compute/cuda/repos/ubuntu1804/x86_64  InRelease [1,581 B]\n",
            "Hit:6 https://developer.download.nvidia.com/compute/machine-learning/repos/ubuntu1804/x86_64  Release\n",
            "Hit:7 http://ppa.launchpad.net/c2d4u.team/c2d4u4.0+/ubuntu bionic InRelease\n",
            "Get:8 http://archive.ubuntu.com/ubuntu bionic-updates InRelease [88.7 kB]\n",
            "Hit:9 http://ppa.launchpad.net/cran/libgit2/ubuntu bionic InRelease\n",
            "Hit:10 http://ppa.launchpad.net/deadsnakes/ppa/ubuntu bionic InRelease\n",
            "Get:11 http://archive.ubuntu.com/ubuntu bionic-backports InRelease [83.3 kB]\n",
            "Hit:12 http://ppa.launchpad.net/graphics-drivers/ppa/ubuntu bionic InRelease\n",
            "Get:13 http://security.ubuntu.com/ubuntu bionic-security/universe amd64 Packages [1,561 kB]\n",
            "Get:14 http://security.ubuntu.com/ubuntu bionic-security/main amd64 Packages [3,067 kB]\n",
            "Get:15 https://developer.download.nvidia.com/compute/cuda/repos/ubuntu1804/x86_64  Packages [1,038 kB]\n",
            "Get:17 http://archive.ubuntu.com/ubuntu bionic-updates/main amd64 Packages [3,493 kB]\n",
            "Get:18 http://archive.ubuntu.com/ubuntu bionic-updates/universe amd64 Packages [2,338 kB]\n",
            "Fetched 11.8 MB in 4s (2,615 kB/s)\n",
            "Reading package lists... Done\n"
          ]
        }
      ],
      "source": [
        "import os\n",
        "# Find the latest version of spark 3.2  from http://www.apache.org/dist/spark/ and enter as the spark version\n",
        "# For example:\n",
        "spark_version = 'spark-3.2.2'\n",
        "# spark_version = 'spark-3.<enter version>'\n",
        "os.environ['SPARK_VERSION']=spark_version\n",
        "\n",
        "# Install Spark and Java\n",
        "!apt-get update\n",
        "!apt-get install openjdk-8-jdk-headless -qq > /dev/null\n",
        "!wget -q http://www.apache.org/dist/spark/$SPARK_VERSION/$SPARK_VERSION-bin-hadoop2.7.tgz\n",
        "!tar xf $SPARK_VERSION-bin-hadoop2.7.tgz\n",
        "!pip install -q findspark\n",
        "\n",
        "# Set Environment Variables\n",
        "os.environ[\"JAVA_HOME\"] = \"/usr/lib/jvm/java-8-openjdk-amd64\"\n",
        "os.environ[\"SPARK_HOME\"] = f\"/content/{spark_version}-bin-hadoop2.7\"\n",
        "\n",
        "# Start a SparkSession\n",
        "import findspark\n",
        "findspark.init()"
      ]
    },
    {
      "cell_type": "code",
      "source": [
        "!wget https://jdbc.postgresql.org/download/postgresql-42.2.9.jar"
      ],
      "metadata": {
        "colab": {
          "base_uri": "https://localhost:8080/"
        },
        "id": "LMyC9s-gbA4K",
        "outputId": "ee167e79-397b-46c8-c22d-4f3a38f5e1ff"
      },
      "execution_count": 2,
      "outputs": [
        {
          "output_type": "stream",
          "name": "stdout",
          "text": [
            "--2022-11-22 23:45:51--  https://jdbc.postgresql.org/download/postgresql-42.2.9.jar\n",
            "Resolving jdbc.postgresql.org (jdbc.postgresql.org)... 72.32.157.228, 2001:4800:3e1:1::228\n",
            "Connecting to jdbc.postgresql.org (jdbc.postgresql.org)|72.32.157.228|:443... connected.\n",
            "HTTP request sent, awaiting response... 200 OK\n",
            "Length: 914037 (893K) [application/java-archive]\n",
            "Saving to: ‘postgresql-42.2.9.jar’\n",
            "\n",
            "postgresql-42.2.9.j 100%[===================>] 892.61K  5.79MB/s    in 0.2s    \n",
            "\n",
            "2022-11-22 23:45:52 (5.79 MB/s) - ‘postgresql-42.2.9.jar’ saved [914037/914037]\n",
            "\n"
          ]
        }
      ]
    },
    {
      "cell_type": "code",
      "source": [
        "from pyspark.sql import SparkSession\n",
        "from pyspark.sql import SQLContext\n",
        "spark = SparkSession.builder.appName(\"CloudETL\").config(\"spark.driver.extraClassPath\",\"/content/postgresql-42.2.9.jar\").getOrCreate()\n",
        "sc = spark.sparkContext\n",
        "sqlContext = SQLContext(sc)"
      ],
      "metadata": {
        "id": "cLmdGKeIbBx4",
        "colab": {
          "base_uri": "https://localhost:8080/"
        },
        "outputId": "8437909f-67ed-4abc-cffe-bcef3506900c"
      },
      "execution_count": 6,
      "outputs": [
        {
          "output_type": "stream",
          "name": "stderr",
          "text": [
            "/content/spark-3.2.2-bin-hadoop2.7/python/pyspark/sql/context.py:79: FutureWarning: Deprecated in 3.0.0. Use SparkSession.builder.getOrCreate() instead.\n",
            "  FutureWarning\n"
          ]
        }
      ]
    },
    {
      "cell_type": "code",
      "source": [
        "# Configuration for RDS instance\n",
        "mode=\"append\"\n",
        "jdbc_url = \"jdbc:postgresql://bootcampdemo.cjhuht28cggy.us-east-1.rds.amazonaws.com:5432/postgres\"\n",
        "\n",
        "config = {\"user\":\"postgres\",\n",
        "          \"password\": \"password\",\n",
        "          \"driver\":\"org.postgresql.Driver\"}"
      ],
      "metadata": {
        "id": "9BsTk58mliOh"
      },
      "execution_count": 7,
      "outputs": []
    },
    {
      "cell_type": "code",
      "source": [
        "# Read Diebetes table struture from Postgres database on AWS\n",
        "\n",
        "sqlContext.read.jdbc(url=jdbc_url, table=\"diabetes_data\", properties=config)"
      ],
      "metadata": {
        "id": "V3KYFE7CvIcO",
        "colab": {
          "base_uri": "https://localhost:8080/"
        },
        "outputId": "e44e36a9-79d6-4d45-ffff-c8554a04482d"
      },
      "execution_count": 9,
      "outputs": [
        {
          "output_type": "execute_result",
          "data": {
            "text/plain": [
              "DataFrame[diabetes_012: decimal(3,1), highbp: decimal(3,1), highchol: decimal(3,1), cholcheck: decimal(3,1), bmi: decimal(3,1), smoker: decimal(3,1), stroke: decimal(3,1), heartdiseaseorattack: decimal(3,1), physactivity: decimal(3,1), fruits: decimal(3,1), veggies: decimal(3,1), hvyalcoholconsump: decimal(3,1), anyhealthcare: decimal(3,1), nodocbccost: decimal(3,1), genhlth: decimal(3,1), menthlth: decimal(3,1), physhlth: decimal(3,1), diffwalk: decimal(3,1), sex: decimal(3,1), age: decimal(3,1), education: decimal(3,1), income: decimal(3,1)]"
            ]
          },
          "metadata": {},
          "execution_count": 9
        }
      ]
    },
    {
      "cell_type": "code",
      "source": [
        "# Run SQL queries using pyspark\n",
        "\n",
        "select_sql = \"(select * from diabetes_data limit 100) as tbl\"\n",
        "df = sqlContext.read.jdbc(url=jdbc_url,table=select_sql, properties=config)\n",
        "df.show(10)"
      ],
      "metadata": {
        "colab": {
          "base_uri": "https://localhost:8080/"
        },
        "id": "YhmK8GY9SxyV",
        "outputId": "7837dccc-f00a-4aa6-d21c-249462e87b35"
      },
      "execution_count": 39,
      "outputs": [
        {
          "output_type": "stream",
          "name": "stdout",
          "text": [
            "+------------+------+--------+---------+----+------+------+--------------------+------------+------+-------+-----------------+-------------+-----------+-------+--------+--------+--------+---+----+---------+------+\n",
            "|diabetes_012|highbp|highchol|cholcheck| bmi|smoker|stroke|heartdiseaseorattack|physactivity|fruits|veggies|hvyalcoholconsump|anyhealthcare|nodocbccost|genhlth|menthlth|physhlth|diffwalk|sex| age|education|income|\n",
            "+------------+------+--------+---------+----+------+------+--------------------+------------+------+-------+-----------------+-------------+-----------+-------+--------+--------+--------+---+----+---------+------+\n",
            "|         0.0|   1.0|     1.0|      1.0|40.0|   1.0|   0.0|                 0.0|         0.0|   0.0|    1.0|              0.0|          1.0|        0.0|    5.0|    18.0|    15.0|     1.0|0.0| 9.0|      4.0|   3.0|\n",
            "|         0.0|   0.0|     0.0|      0.0|25.0|   1.0|   0.0|                 0.0|         1.0|   0.0|    0.0|              0.0|          0.0|        1.0|    3.0|     0.0|     0.0|     0.0|0.0| 7.0|      6.0|   1.0|\n",
            "|         0.0|   1.0|     1.0|      1.0|28.0|   0.0|   0.0|                 0.0|         0.0|   1.0|    0.0|              0.0|          1.0|        1.0|    5.0|    30.0|    30.0|     1.0|0.0| 9.0|      4.0|   8.0|\n",
            "|         0.0|   1.0|     0.0|      1.0|27.0|   0.0|   0.0|                 0.0|         1.0|   1.0|    1.0|              0.0|          1.0|        0.0|    2.0|     0.0|     0.0|     0.0|0.0|11.0|      3.0|   6.0|\n",
            "|         0.0|   1.0|     1.0|      1.0|24.0|   0.0|   0.0|                 0.0|         1.0|   1.0|    1.0|              0.0|          1.0|        0.0|    2.0|     3.0|     0.0|     0.0|0.0|11.0|      5.0|   4.0|\n",
            "|         0.0|   1.0|     1.0|      1.0|25.0|   1.0|   0.0|                 0.0|         1.0|   1.0|    1.0|              0.0|          1.0|        0.0|    2.0|     0.0|     2.0|     0.0|1.0|10.0|      6.0|   8.0|\n",
            "|         0.0|   1.0|     0.0|      1.0|30.0|   1.0|   0.0|                 0.0|         0.0|   0.0|    0.0|              0.0|          1.0|        0.0|    3.0|     0.0|    14.0|     0.0|0.0| 9.0|      6.0|   7.0|\n",
            "|         0.0|   1.0|     1.0|      1.0|25.0|   1.0|   0.0|                 0.0|         1.0|   0.0|    1.0|              0.0|          1.0|        0.0|    3.0|     0.0|     0.0|     1.0|0.0|11.0|      4.0|   4.0|\n",
            "|         2.0|   1.0|     1.0|      1.0|30.0|   1.0|   0.0|                 1.0|         0.0|   1.0|    1.0|              0.0|          1.0|        0.0|    5.0|    30.0|    30.0|     1.0|0.0| 9.0|      5.0|   1.0|\n",
            "|         0.0|   0.0|     0.0|      1.0|24.0|   0.0|   0.0|                 0.0|         0.0|   0.0|    1.0|              0.0|          1.0|        0.0|    2.0|     0.0|     0.0|     0.0|1.0| 8.0|      4.0|   3.0|\n",
            "+------------+------+--------+---------+----+------+------+--------------------+------------+------+-------+-----------------+-------------+-----------+-------+--------+--------+--------+---+----+---------+------+\n",
            "only showing top 10 rows\n",
            "\n"
          ]
        }
      ]
    },
    {
      "cell_type": "code",
      "source": [
        "# Run SQL queries using pyspark\n",
        "# Males and Females NOT having good BMI index and count of no-diebetes, pre-diebetes, diebetes condition\n",
        "\n",
        "select_sql = \"(select diabetes_012, sex, count(*) as \\\"Total Count\\\" from diabetes_data where bmi not in (18, 19, 20, 21, 22, 23, 24, 25) group by diabetes_012, sex) as tbl\"\n",
        "\n",
        "df = sqlContext.read.jdbc(url=jdbc_url,table=select_sql, properties=config)\n",
        "df.show(10)"
      ],
      "metadata": {
        "colab": {
          "base_uri": "https://localhost:8080/"
        },
        "id": "e-6E_N9I29sl",
        "outputId": "ac68f19f-a1c7-4464-db4d-6b2561249ec4"
      },
      "execution_count": 40,
      "outputs": [
        {
          "output_type": "stream",
          "name": "stdout",
          "text": [
            "+------------+---+-----------+\n",
            "|diabetes_012|sex|Total Count|\n",
            "+------------+---+-----------+\n",
            "|         0.0|0.0|      68552|\n",
            "|         0.0|1.0|      63650|\n",
            "|         1.0|0.0|       2019|\n",
            "|         1.0|1.0|       1673|\n",
            "|         2.0|0.0|      15558|\n",
            "|         2.0|1.0|      14326|\n",
            "+------------+---+-----------+\n",
            "\n"
          ]
        }
      ]
    }
  ]
}